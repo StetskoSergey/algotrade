{
  "nbformat": 4,
  "nbformat_minor": 0,
  "metadata": {
    "colab": {
      "provenance": [],
      "authorship_tag": "ABX9TyPrT//nMcZ+r7uxBbn6Na8g",
      "include_colab_link": true
    },
    "kernelspec": {
      "name": "python3",
      "display_name": "Python 3"
    },
    "language_info": {
      "name": "python"
    }
  },
  "cells": [
    {
      "cell_type": "markdown",
      "metadata": {
        "id": "view-in-github",
        "colab_type": "text"
      },
      "source": [
        "<a href=\"https://colab.research.google.com/github/StetskoSergey/algotrade/blob/main/Backtesting_try.ipynb\" target=\"_parent\"><img src=\"https://colab.research.google.com/assets/colab-badge.svg\" alt=\"Open In Colab\"/></a>"
      ]
    },
    {
      "cell_type": "code",
      "execution_count": null,
      "metadata": {
        "id": "aKu9zSPEy0Dl"
      },
      "outputs": [],
      "source": [
        "import numpy as np # библиотека нампи\n",
        "import pandas as pd # библиотека пандас\n",
        "import matplotlib.pyplot as plt # библиотека матплотлиб для отрисовки\n",
        "from IPython.display import clear_output # очистка вывода в ячейке\n",
        "import datetime # модуль для работы с datetime"
      ]
    },
    {
      "cell_type": "code",
      "source": [
        "!pip install yfinance -q # установка yfinance\n",
        "import yfinance as yf # requires yfinance - pip install yfinance\n",
        "clear_output()"
      ],
      "metadata": {
        "id": "M0IPgkowy5zQ"
      },
      "execution_count": null,
      "outputs": []
    },
    {
      "cell_type": "code",
      "source": [
        "!pip install backtesting -q\n",
        "# Библиотеки backtesting \n",
        "from backtesting import Backtest, Strategy\n",
        "clear_output()"
      ],
      "metadata": {
        "id": "n6gBednCzPUL"
      },
      "execution_count": null,
      "outputs": []
    },
    {
      "cell_type": "markdown",
      "source": [],
      "metadata": {
        "id": "2ftVGdXUzWtS"
      }
    },
    {
      "cell_type": "markdown",
      "source": [
        "# **Backtesting.py**\n",
        "\n",
        "Бэктестинг — это необходимый компонент в работе трейдера — процесс оценки эффективности торговой системы на основе исторических данных. Бэктестинг дает возможность понять насколько эффективна стратегия во времени, на каких рынках она показывает лучшие результаты, а где он просто теряет деньги.\n",
        "\n",
        "\n",
        "\n",
        "Backtest trading strategies in Python\n",
        "\n",
        "[документация](https://kernc.github.io/backtesting.py/)\n",
        "\n",
        "[примеры](https://kernc.github.io/backtesting.py/doc/backtesting/#example-strategies)\n",
        "\n",
        "<img src = 'https://kernc.github.io/backtesting.py/logo.png'>"
      ],
      "metadata": {
        "id": "L653UEXb9Act"
      }
    }
  ]
}