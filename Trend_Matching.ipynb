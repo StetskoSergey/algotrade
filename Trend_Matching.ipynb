{
  "nbformat": 4,
  "nbformat_minor": 0,
  "metadata": {
    "colab": {
      "provenance": [],
      "authorship_tag": "ABX9TyNn2Q6HtKbJ4cVDHEKNG6Es",
      "include_colab_link": true
    },
    "kernelspec": {
      "name": "python3",
      "display_name": "Python 3"
    },
    "language_info": {
      "name": "python"
    }
  },
  "cells": [
    {
      "cell_type": "markdown",
      "metadata": {
        "id": "view-in-github",
        "colab_type": "text"
      },
      "source": [
        "<a href=\"https://colab.research.google.com/github/StetskoSergey/algotrade/blob/main/Trend_Matching.ipynb\" target=\"_parent\"><img src=\"https://colab.research.google.com/assets/colab-badge.svg\" alt=\"Open In Colab\"/></a>"
      ]
    },
    {
      "cell_type": "code",
      "execution_count": 92,
      "metadata": {
        "id": "JWL_omb4lZZ7"
      },
      "outputs": [],
      "source": [
        "def B(arr, step=1, window=20, comis=0):\n",
        "    i = 0\n",
        "    res = []\n",
        "    cond_break = False\n",
        "    while True:\n",
        "        dist = 0\n",
        "        for j in range(step, min(window, len(arr)-i)):\n",
        "            # нам нужно проверить начнет ли расти диапазон, для этого нужно уже иметь первый диапазон\n",
        "            print(\"i, j, arri, arrj\", i, j, arr[i], arr[i+j])\n",
        "            new_dist = abs(arr[i+j] - arr[i])\n",
        "            cond = new_dist > dist\n",
        "            end_array = i+j+1 == len(arr)\n",
        "            if cond and not end_array:\n",
        "              dist = new_dist\n",
        "            elif cond and end_array and dist == 0:\n",
        "              print(i+1, i+j+1)\n",
        "              res.append((i,i+j))\n",
        "              i += j-1\n",
        "              cond_break = True\n",
        "              print(\"opa\")\n",
        "              break\n",
        "            elif cond and end_array and dist != 0:\n",
        "              print(i+1, i+j+1)\n",
        "              res.append((i,i+j))\n",
        "              i += j-1\n",
        "              break  \n",
        "            elif not cond and end_array and dist != 0:\n",
        "              print(i+1, i+j)\n",
        "              res.append((i,i+j-1))\n",
        "              i += j-1\n",
        "              break\n",
        "            elif not cond and end_array and dist == 0:\n",
        "              print(i+1, i+j+1)\n",
        "              res.append((i,i+j))\n",
        "              i += j-1\n",
        "              cond_break = True  \n",
        "              break\n",
        "            #else:\n",
        "              #i += j    \n",
        "            \n",
        "        if cond_break:\n",
        "          break\n",
        "    return res        \n",
        "            \n",
        "\n",
        "            "
      ]
    },
    {
      "cell_type": "code",
      "source": [
        "def Trend_Matching(arr, step=1, window=20, comis=0):\n",
        "    i = 0\n",
        "    res = []\n",
        "    len = arr.shape[0]\n",
        "    cond_break = False\n",
        "    while True:\n",
        "        trend = None\n",
        "        if step > len-i:\n",
        "          res.append((0,arr.shape[0]-1))\n",
        "          return res\n",
        "        for j in range(step, min(window, len-i)):\n",
        "            # нам нужно проверить начнет ли расти диапазон, для этого нужно уже иметь первый диапазон\n",
        "            #print(\"i, j, arri, arrj\", i, j, arr[i], arr[i+j])\n",
        "            delta = arr[i+j]*comis            \n",
        "            if arr[i+j] - arr[i+j-1] - delta > 0:\n",
        "              new_trend = 1\n",
        "            elif arr[i+j]- arr[i+j-1] + delta < 0:\n",
        "              new_trend = -1\n",
        "            else:\n",
        "              new_trend = 0    \n",
        "            if trend == None:\n",
        "              cond = False\n",
        "              trend = new_trend\n",
        "            else:\n",
        "              cond = new_trend != trend\n",
        "            end_array = i+j+1 == len\n",
        "            if end_array:\n",
        "              # конец массива, последний элемент, может быть другого тренда ...\n",
        "              if cond:\n",
        "                #print(\"смена тренда и конце массива\")\n",
        "                #print(i+1, i+j)\n",
        "                res.append((i,i+j-1))\n",
        "                #print(i+j, i+j+1)\n",
        "                res.append((i+j-1,i+j))\n",
        "                return res\n",
        "              else:\n",
        "                #print(\"тренд продолжается и конце массива\")\n",
        "                #print(i+1, i+j+1)\n",
        "                res.append((i,i+j))\n",
        "                return res    \n",
        "                # нужно завершить цикл ...\n",
        "            else:\n",
        "              if cond: # смена тренда, не на конце массива\n",
        "                #print(\"смена тренда не на конце массива\")\n",
        "                #print(i+1, i+j)\n",
        "                res.append((i,i+j-1))\n",
        "                # отходим на шаг назад, чтобы начать отслеживать новый тренд\n",
        "                i += j-1\n",
        "                trend = new_trend\n",
        "                break\n",
        "              #else:\n",
        "                #print(\"тренд продолжается не на конце массива\")\n",
        "       \n",
        "    return res        \n",
        "            \n",
        "\n",
        "            "
      ],
      "metadata": {
        "id": "GZvolYhkYT9m"
      },
      "execution_count": 143,
      "outputs": []
    },
    {
      "cell_type": "code",
      "source": [
        "import numpy as np # библиотека нампи\n",
        "arr = np.array([5,5,5,4,7,8,8])\n",
        "Trend_Matching(arr)"
      ],
      "metadata": {
        "colab": {
          "base_uri": "https://localhost:8080/"
        },
        "id": "76dVQjWilg3j",
        "outputId": "0033c76e-8625-46f9-be8f-c446e0f6d72c"
      },
      "execution_count": 145,
      "outputs": [
        {
          "output_type": "execute_result",
          "data": {
            "text/plain": [
              "[(0, 2), (2, 3), (3, 5), (5, 6)]"
            ]
          },
          "metadata": {},
          "execution_count": 145
        }
      ]
    }
  ]
}