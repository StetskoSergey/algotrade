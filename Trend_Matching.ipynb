{
  "nbformat": 4,
  "nbformat_minor": 0,
  "metadata": {
    "colab": {
      "provenance": [],
      "authorship_tag": "ABX9TyOhMU6tqdLVf4b97qD3j2Ie",
      "include_colab_link": true
    },
    "kernelspec": {
      "name": "python3",
      "display_name": "Python 3"
    },
    "language_info": {
      "name": "python"
    }
  },
  "cells": [
    {
      "cell_type": "markdown",
      "metadata": {
        "id": "view-in-github",
        "colab_type": "text"
      },
      "source": [
        "<a href=\"https://colab.research.google.com/github/StetskoSergey/algotrade/blob/main/Trend_Matching.ipynb\" target=\"_parent\"><img src=\"https://colab.research.google.com/assets/colab-badge.svg\" alt=\"Open In Colab\"/></a>"
      ]
    },
    {
      "cell_type": "code",
      "source": [
        "def Trend_Matching(arr, step=1, window=20, comis=0):\n",
        "    i = 0\n",
        "    res = []\n",
        "    len = arr.shape[0]\n",
        "    cond_break = False\n",
        "    while True:\n",
        "        trend = None\n",
        "        if step > len-i:\n",
        "          res.append((0,arr.shape[0]-1))\n",
        "          return res\n",
        "        for j in range(step, min(window, len-i)):\n",
        "            # нам нужно проверить начнет ли расти диапазон, для этого нужно уже иметь первый диапазон\n",
        "            #print(\"i, j, arri, arrj\", i, j, arr[i], arr[i+j])\n",
        "            delta = arr[i+j]*comis            \n",
        "            if arr[i+j] - arr[i+j-1] - delta > 0:\n",
        "              new_trend = 1\n",
        "            elif arr[i+j]- arr[i+j-1] + delta < 0:\n",
        "              new_trend = -1\n",
        "            else:\n",
        "              new_trend = 0    \n",
        "            if trend == None:\n",
        "              cond = False\n",
        "              trend = new_trend\n",
        "            else:\n",
        "              cond = new_trend != trend\n",
        "            end_array = i+j+1 == len\n",
        "            if end_array:\n",
        "              # конец массива, последний элемент, может быть другого тренда ...\n",
        "              if cond:\n",
        "                #print(\"смена тренда и конце массива\")\n",
        "                #print(i+1, i+j)\n",
        "                res.append((i,i+j-1, trend))\n",
        "                #print(i+j, i+j+1)\n",
        "                res.append((i+j-1,i+j, new_trend))\n",
        "                return res\n",
        "              else:\n",
        "                #print(\"тренд продолжается и конце массива\")\n",
        "                #print(i+1, i+j+1)\n",
        "                res.append((i,i+j, trend))\n",
        "                return res    \n",
        "                # нужно завершить цикл ...\n",
        "            else:\n",
        "              if cond: # смена тренда, не на конце массива\n",
        "                #print(\"смена тренда не на конце массива\")\n",
        "                #print(i+1, i+j)\n",
        "                res.append((i,i+j-1, trend))\n",
        "                # отходим на шаг назад, чтобы начать отслеживать новый тренд\n",
        "                i += j-1\n",
        "                trend = new_trend\n",
        "                break\n",
        "              #else:\n",
        "                #print(\"тренд продолжается не на конце массива\")\n",
        "       \n",
        "    return res        \n",
        "            \n",
        "\n",
        "            "
      ],
      "metadata": {
        "id": "GZvolYhkYT9m"
      },
      "execution_count": 7,
      "outputs": []
    },
    {
      "cell_type": "code",
      "source": [
        "import numpy as np # библиотека нампи\n",
        "\n",
        "def Mathing_Signal(arr, step=1, window=20, comis=0):\n",
        "  # нужно пройти по всей длине массива,\n",
        "  # если нет таких элементов, то ставятся нулевые сигналы\n",
        "  # если элемент встречается, то определяется, что это Лонг или Шорт\n",
        "  signal = np.zeros((arr.shape[0],2) )\n",
        "  for trend in Trend_Matching(arr, step, window, comis):\n",
        "    #print(trend[0], trend[1], trend[2])\n",
        "    if trend[2] == 1:\n",
        "      signal[trend[0], 0] = 1\n",
        "      signal[trend[1], 0] = -1\n",
        "    elif trend[2] == -1:\n",
        "      signal[trend[0], 1] = -1\n",
        "      signal[trend[1], 1] = 1  \n",
        "      \n",
        "  return signal\n",
        "\n"
      ],
      "metadata": {
        "id": "6e0zIG6BkPFP"
      },
      "execution_count": 32,
      "outputs": []
    },
    {
      "cell_type": "code",
      "source": [
        "arr = np.array([5,5,5,4,7,4,4])\n",
        "print(Mathing_Signal(arr))"
      ],
      "metadata": {
        "colab": {
          "base_uri": "https://localhost:8080/"
        },
        "id": "76dVQjWilg3j",
        "outputId": "846b5aab-03bf-4cfc-ab7f-d610e9df82b4"
      },
      "execution_count": 31,
      "outputs": [
        {
          "output_type": "stream",
          "name": "stdout",
          "text": [
            "[[ 0.  0.]\n",
            " [ 0.  0.]\n",
            " [ 0. -1.]\n",
            " [ 1.  1.]\n",
            " [-1. -1.]\n",
            " [ 0.  1.]\n",
            " [ 0.  0.]]\n"
          ]
        }
      ]
    }
  ]
}